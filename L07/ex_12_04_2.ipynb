{
 "cells": [
  {
   "cell_type": "code",
   "execution_count": 1,
   "metadata": {},
   "outputs": [],
   "source": [
    "from sklearn.datasets import load_iris\n",
    "from sklearn.model_selection import train_test_split\n",
    "import tensorflow as tf\n",
    "\n",
    "iris = load_iris()\n",
    "# shuffle = True 随机打乱后再进行分割数据\n",
    "X_train, X_test, ori_y_train, ori_y_test = train_test_split(iris.data, iris.target, test_size=0.2, shuffle=True) \n",
    "# 独热编码 0用[1,0,0]表示, 1用[0,1,0]表示，这样的只含有0，1的数组\n",
    "y_train = tf.one_hot(ori_y_train, 3)\n",
    "y_test = tf.one_hot(ori_y_test, 3)"
   ]
  },
  {
   "cell_type": "code",
   "execution_count": 2,
   "metadata": {},
   "outputs": [
    {
     "name": "stdout",
     "output_type": "stream",
     "text": [
      "Model: \"sequential\"\n",
      "_________________________________________________________________\n",
      " Layer (type)                Output Shape              Param #   \n",
      "=================================================================\n",
      " dense (Dense)               (None, 1024)              5120      \n",
      "                                                                 \n",
      " dense_1 (Dense)             (None, 512)               524800    \n",
      "                                                                 \n",
      " dense_2 (Dense)             (None, 256)               131328    \n",
      "                                                                 \n",
      " dropout (Dropout)           (None, 256)               0         \n",
      "                                                                 \n",
      " dense_3 (Dense)             (None, 3)                 771       \n",
      "                                                                 \n",
      "=================================================================\n",
      "Total params: 662,019\n",
      "Trainable params: 662,019\n",
      "Non-trainable params: 0\n",
      "_________________________________________________________________\n"
     ]
    }
   ],
   "source": [
    "from tensorflow.keras.models import Sequential\n",
    "from tensorflow.keras.layers import Dense, Dropout\n",
    "# 数据输入 → 全连层*3 → Dropout层（防止过拟合） → 3分类输出\n",
    "model = Sequential()\n",
    "model.add(Dense(1024, input_dim=4, activation='relu'))\n",
    "model.add(Dense(512, activation='relu'))\n",
    "model.add(Dense(256, activation='relu'))\n",
    "model.add(Dropout(0.1))\n",
    "model.add(Dense(3, activation='softmax'))\n",
    "model.summary()"
   ]
  },
  {
   "cell_type": "code",
   "execution_count": 3,
   "metadata": {},
   "outputs": [
    {
     "name": "stdout",
     "output_type": "stream",
     "text": [
      "Epoch 1/50\n",
      "4/4 [==============================] - 1s 45ms/step - loss: 1.0991 - accuracy: 0.4167 - val_loss: 0.8402 - val_accuracy: 0.6000\n",
      "Epoch 2/50\n",
      "4/4 [==============================] - 0s 12ms/step - loss: 0.7088 - accuracy: 0.7417 - val_loss: 0.5187 - val_accuracy: 0.7333\n",
      "Epoch 3/50\n",
      "4/4 [==============================] - 0s 12ms/step - loss: 0.5029 - accuracy: 0.7000 - val_loss: 0.3780 - val_accuracy: 0.8667\n",
      "Epoch 4/50\n",
      "4/4 [==============================] - 0s 12ms/step - loss: 0.3817 - accuracy: 0.8417 - val_loss: 0.2938 - val_accuracy: 1.0000\n",
      "Epoch 5/50\n",
      "4/4 [==============================] - 0s 13ms/step - loss: 0.2950 - accuracy: 0.9167 - val_loss: 0.2894 - val_accuracy: 0.8667\n",
      "Epoch 6/50\n",
      "4/4 [==============================] - 0s 12ms/step - loss: 0.2419 - accuracy: 0.9000 - val_loss: 0.2311 - val_accuracy: 0.8667\n",
      "Epoch 7/50\n",
      "4/4 [==============================] - 0s 13ms/step - loss: 0.2043 - accuracy: 0.9250 - val_loss: 0.4428 - val_accuracy: 0.7667\n",
      "Epoch 8/50\n",
      "4/4 [==============================] - 0s 13ms/step - loss: 0.2460 - accuracy: 0.9000 - val_loss: 0.2036 - val_accuracy: 0.8667\n",
      "Epoch 9/50\n",
      "4/4 [==============================] - 0s 13ms/step - loss: 0.1705 - accuracy: 0.9417 - val_loss: 0.3910 - val_accuracy: 0.8333\n",
      "Epoch 10/50\n",
      "4/4 [==============================] - 0s 12ms/step - loss: 0.1907 - accuracy: 0.9167 - val_loss: 0.1946 - val_accuracy: 0.8667\n",
      "Epoch 11/50\n",
      "4/4 [==============================] - 0s 13ms/step - loss: 0.2751 - accuracy: 0.9083 - val_loss: 0.1859 - val_accuracy: 0.9000\n",
      "Epoch 12/50\n",
      "4/4 [==============================] - 0s 12ms/step - loss: 0.2221 - accuracy: 0.8833 - val_loss: 0.0711 - val_accuracy: 1.0000\n",
      "Epoch 13/50\n",
      "4/4 [==============================] - 0s 12ms/step - loss: 0.2439 - accuracy: 0.9000 - val_loss: 0.0707 - val_accuracy: 1.0000\n",
      "Epoch 14/50\n",
      "4/4 [==============================] - 0s 12ms/step - loss: 0.1709 - accuracy: 0.9333 - val_loss: 0.2216 - val_accuracy: 0.9000\n",
      "Epoch 15/50\n",
      "4/4 [==============================] - 0s 12ms/step - loss: 0.1149 - accuracy: 0.9667 - val_loss: 0.1045 - val_accuracy: 0.9667\n",
      "Epoch 16/50\n",
      "4/4 [==============================] - 0s 12ms/step - loss: 0.1635 - accuracy: 0.9250 - val_loss: 0.1090 - val_accuracy: 0.9000\n",
      "Epoch 17/50\n",
      "4/4 [==============================] - 0s 12ms/step - loss: 0.1278 - accuracy: 0.9417 - val_loss: 0.1247 - val_accuracy: 0.9000\n",
      "Epoch 18/50\n",
      "4/4 [==============================] - 0s 13ms/step - loss: 0.1036 - accuracy: 0.9750 - val_loss: 0.0585 - val_accuracy: 1.0000\n",
      "Epoch 19/50\n",
      "4/4 [==============================] - 0s 12ms/step - loss: 0.1031 - accuracy: 0.9583 - val_loss: 0.1043 - val_accuracy: 0.9000\n",
      "Epoch 20/50\n",
      "4/4 [==============================] - 0s 13ms/step - loss: 0.1147 - accuracy: 0.9500 - val_loss: 0.0633 - val_accuracy: 1.0000\n",
      "Epoch 21/50\n",
      "4/4 [==============================] - 0s 12ms/step - loss: 0.1077 - accuracy: 0.9583 - val_loss: 0.0555 - val_accuracy: 1.0000\n",
      "Epoch 22/50\n",
      "4/4 [==============================] - 0s 14ms/step - loss: 0.1287 - accuracy: 0.9500 - val_loss: 0.1184 - val_accuracy: 0.9000\n",
      "Epoch 23/50\n",
      "4/4 [==============================] - 0s 14ms/step - loss: 0.1736 - accuracy: 0.9250 - val_loss: 0.0471 - val_accuracy: 1.0000\n",
      "Epoch 24/50\n",
      "4/4 [==============================] - 0s 13ms/step - loss: 0.0754 - accuracy: 0.9750 - val_loss: 0.2558 - val_accuracy: 0.9000\n",
      "Epoch 25/50\n",
      "4/4 [==============================] - 0s 14ms/step - loss: 0.1240 - accuracy: 0.9417 - val_loss: 0.0444 - val_accuracy: 1.0000\n",
      "Epoch 26/50\n",
      "4/4 [==============================] - 0s 14ms/step - loss: 0.1172 - accuracy: 0.9500 - val_loss: 0.0452 - val_accuracy: 1.0000\n",
      "Epoch 27/50\n",
      "4/4 [==============================] - 0s 13ms/step - loss: 0.0910 - accuracy: 0.9583 - val_loss: 0.2247 - val_accuracy: 0.9000\n",
      "Epoch 28/50\n",
      "4/4 [==============================] - 0s 14ms/step - loss: 0.0844 - accuracy: 0.9583 - val_loss: 0.0399 - val_accuracy: 1.0000\n",
      "Epoch 29/50\n",
      "4/4 [==============================] - 0s 13ms/step - loss: 0.1173 - accuracy: 0.9583 - val_loss: 0.0444 - val_accuracy: 1.0000\n",
      "Epoch 30/50\n",
      "4/4 [==============================] - 0s 13ms/step - loss: 0.1128 - accuracy: 0.9417 - val_loss: 0.1327 - val_accuracy: 0.9000\n",
      "Epoch 31/50\n",
      "4/4 [==============================] - 0s 13ms/step - loss: 0.0839 - accuracy: 0.9750 - val_loss: 0.0378 - val_accuracy: 1.0000\n",
      "Epoch 32/50\n",
      "4/4 [==============================] - 0s 13ms/step - loss: 0.0856 - accuracy: 0.9583 - val_loss: 0.0969 - val_accuracy: 0.9333\n",
      "Epoch 33/50\n",
      "4/4 [==============================] - 0s 12ms/step - loss: 0.0986 - accuracy: 0.9500 - val_loss: 0.0719 - val_accuracy: 0.9333\n",
      "Epoch 34/50\n",
      "4/4 [==============================] - 0s 13ms/step - loss: 0.0781 - accuracy: 0.9750 - val_loss: 0.0356 - val_accuracy: 1.0000\n",
      "Epoch 35/50\n",
      "4/4 [==============================] - 0s 13ms/step - loss: 0.0801 - accuracy: 0.9583 - val_loss: 0.1353 - val_accuracy: 0.9000\n",
      "Epoch 36/50\n",
      "4/4 [==============================] - 0s 13ms/step - loss: 0.0758 - accuracy: 0.9750 - val_loss: 0.0498 - val_accuracy: 1.0000\n",
      "Epoch 37/50\n",
      "4/4 [==============================] - 0s 12ms/step - loss: 0.0699 - accuracy: 0.9750 - val_loss: 0.0677 - val_accuracy: 0.9333\n",
      "Epoch 38/50\n",
      "4/4 [==============================] - 0s 13ms/step - loss: 0.0682 - accuracy: 0.9750 - val_loss: 0.0757 - val_accuracy: 0.9333\n",
      "Epoch 39/50\n",
      "4/4 [==============================] - 0s 12ms/step - loss: 0.0718 - accuracy: 0.9667 - val_loss: 0.0699 - val_accuracy: 0.9333\n",
      "Epoch 40/50\n",
      "4/4 [==============================] - 0s 14ms/step - loss: 0.0769 - accuracy: 0.9750 - val_loss: 0.0528 - val_accuracy: 1.0000\n",
      "Epoch 41/50\n",
      "4/4 [==============================] - 0s 12ms/step - loss: 0.0730 - accuracy: 0.9667 - val_loss: 0.1255 - val_accuracy: 0.9333\n",
      "Epoch 42/50\n",
      "4/4 [==============================] - 0s 12ms/step - loss: 0.0645 - accuracy: 0.9750 - val_loss: 0.0308 - val_accuracy: 1.0000\n",
      "Epoch 43/50\n",
      "4/4 [==============================] - 0s 13ms/step - loss: 0.0762 - accuracy: 0.9750 - val_loss: 0.0732 - val_accuracy: 0.9333\n",
      "Epoch 44/50\n",
      "4/4 [==============================] - 0s 13ms/step - loss: 0.0612 - accuracy: 0.9750 - val_loss: 0.1074 - val_accuracy: 0.9333\n",
      "Epoch 45/50\n",
      "4/4 [==============================] - 0s 12ms/step - loss: 0.0679 - accuracy: 0.9750 - val_loss: 0.0285 - val_accuracy: 1.0000\n",
      "Epoch 46/50\n",
      "4/4 [==============================] - 0s 13ms/step - loss: 0.1052 - accuracy: 0.9667 - val_loss: 0.1405 - val_accuracy: 0.9333\n",
      "Epoch 47/50\n",
      "4/4 [==============================] - 0s 12ms/step - loss: 0.0789 - accuracy: 0.9667 - val_loss: 0.0535 - val_accuracy: 1.0000\n",
      "Epoch 48/50\n",
      "4/4 [==============================] - 0s 12ms/step - loss: 0.0835 - accuracy: 0.9583 - val_loss: 0.0534 - val_accuracy: 1.0000\n",
      "Epoch 49/50\n",
      "4/4 [==============================] - 0s 12ms/step - loss: 0.0715 - accuracy: 0.9833 - val_loss: 0.0938 - val_accuracy: 0.9333\n",
      "Epoch 50/50\n",
      "4/4 [==============================] - 0s 13ms/step - loss: 0.0648 - accuracy: 0.9750 - val_loss: 0.0493 - val_accuracy: 1.0000\n"
     ]
    }
   ],
   "source": [
    "model.compile(loss='categorical_crossentropy', optimizer='adam', metrics=['accuracy'])\n",
    "history = model.fit(X_train, y_train, validation_data=(X_test, y_test), epochs=50, batch_size=32, verbose=1)"
   ]
  },
  {
   "cell_type": "code",
   "execution_count": 4,
   "metadata": {},
   "outputs": [
    {
     "name": "stdout",
     "output_type": "stream",
     "text": [
      "1/1 [==============================] - 0s 18ms/step - loss: 0.0493 - accuracy: 1.0000\n",
      "Test score: 0.049330148845911026\n",
      "Test accuracy: 1.0\n"
     ]
    }
   ],
   "source": [
    "import pickle\n",
    "\n",
    "# 模型预测\n",
    "score, acc = model.evaluate(X_test, y_test, batch_size=32)\n",
    "print('Test score:', score)\n",
    "print('Test accuracy:', acc)\n",
    "# 训练记录保存\n",
    "with open('./data/irises_history.txt', 'wb', ) as file_txt:\n",
    "    pickle.dump(history.history, file_txt)\n",
    "# 模型保存.h5\n",
    "model.save('./model/irises_classifier_pro.h5')"
   ]
  },
  {
   "cell_type": "code",
   "execution_count": 5,
   "metadata": {},
   "outputs": [
    {
     "name": "stdout",
     "output_type": "stream",
     "text": [
      "1/1 [==============================] - 0s 54ms/step\n",
      "predict: [0 1 0 1 0 0 2 2 2 0 0 2 1 0 2 2 1 0 0 2 2 0 2 1 1 1 2 1 1 2]\n",
      "real: [0 1 0 1 0 0 2 2 2 0 0 2 1 0 2 2 1 0 0 2 2 0 2 1 1 1 2 1 1 2]\n",
      "accuracy: 1.0\n"
     ]
    }
   ],
   "source": [
    "# 从指定模型保存的位置读取模型，做预测\n",
    "from tensorflow.keras.models import load_model\n",
    "import numpy as np\n",
    "\n",
    "read_model = load_model('./model/irises_classifier_pro.h5')\n",
    "out = read_model.predict(X_test)\n",
    "#print(\"out:%s\"%out)\n",
    "\n",
    "out = tf.nn.softmax(out)\n",
    "out = np.array(out)\n",
    "\n",
    "pre_test = np.argmax(out,axis=1)\n",
    "print('predict:',pre_test)\n",
    "print('real:',ori_y_test)\n",
    "print('accuracy:',np.mean(pre_test==ori_y_test))"
   ]
  }
 ],
 "metadata": {
  "kernelspec": {
   "display_name": "Python 3",
   "language": "python",
   "name": "python3"
  },
  "language_info": {
   "codemirror_mode": {
    "name": "ipython",
    "version": 3
   },
   "file_extension": ".py",
   "mimetype": "text/x-python",
   "name": "python",
   "nbconvert_exporter": "python",
   "pygments_lexer": "ipython3",
   "version": "3.9.13"
  }
 },
 "nbformat": 4,
 "nbformat_minor": 2
}
