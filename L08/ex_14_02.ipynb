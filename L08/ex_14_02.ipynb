{
 "cells": [
  {
   "cell_type": "code",
   "execution_count": 1,
   "metadata": {},
   "outputs": [
    {
     "name": "stdout",
     "output_type": "stream",
     "text": [
      "['alt.atheism', 'comp.graphics', 'comp.os.ms-windows.misc', 'comp.sys.ibm.pc.hardware', 'comp.sys.mac.hardware', 'comp.windows.x', 'misc.forsale', 'rec.autos', 'rec.motorcycles', 'rec.sport.baseball', 'rec.sport.hockey', 'sci.crypt', 'sci.electronics', 'sci.med', 'sci.space', 'soc.religion.christian', 'talk.politics.guns', 'talk.politics.mideast', 'talk.politics.misc', 'talk.religion.misc']\n",
      "Organization: University of Central Florida - Computer Services\n",
      "From: Mark Woodruff <CDA90038@UCF1VM.BITNET>\n",
      "Subject: Many people on one machine\n",
      "Lines: 9\n",
      "\n",
      "I have several people sharing my machine and would like to set up separate\n",
      "environments under Windows for each of them.  Is there some way of setting\n",
      "things up separate desktops/directories for each of them?  Ideally,\n",
      "I'd like totally separate virtual machines.  I'd be willing to settle for\n",
      "less, and may end up having batch files that copy .ini files around\n",
      "depending on who wants to use the machine.\n",
      "\n",
      "mark\n",
      "Alas, Setup/n doesn't work if you don't have a network.\n",
      "\n"
     ]
    }
   ],
   "source": [
    "from sklearn.datasets import fetch_20newsgroups\n",
    "\n",
    "newsgroups_train = fetch_20newsgroups(data_home=None, # 文件下载的路径\n",
    "                                      subset='train', # 加载那一部分数据集 train/test\n",
    "                                      categories=None, # 选取哪一类数据集[类别列表]，默认20类\n",
    "                                      shuffle=True,  # 将数据集随机排序\n",
    "                                      random_state=2023, # 随机数生成器\n",
    "                                      remove=(), # ('headers','footers','quotes') 去除部分文本\n",
    "                                      download_if_missing=True # 如果没有下载过，重新下载\n",
    "                                     )\n",
    "print(newsgroups_train.target_names)\n",
    "print(newsgroups_train.data[0])"
   ]
  },
  {
   "cell_type": "code",
   "execution_count": 2,
   "metadata": {},
   "outputs": [
    {
     "name": "stdout",
     "output_type": "stream",
     "text": [
      "['alas' 'and' 'around' 'batch' 'be' 'bitnet' 'cda90038' 'central'\n",
      " 'computer' 'copy' 'depending' 'desktops' 'directories' 'doesn' 'don'\n",
      " 'each' 'end' 'environments' 'files' 'florida' 'for' 'from' 'have'\n",
      " 'having' 'ideally' 'if' 'ini' 'is' 'less' 'like' 'lines' 'machine'\n",
      " 'machines' 'many' 'mark' 'may' 'my' 'network' 'of' 'on' 'one'\n",
      " 'organization' 'people' 'separate' 'services' 'set' 'setting' 'settle'\n",
      " 'setup' 'several' 'sharing' 'some' 'subject' 'that' 'the' 'them' 'there'\n",
      " 'things' 'to' 'totally' 'ucf1vm' 'under' 'university' 'up' 'use'\n",
      " 'virtual' 'wants' 'way' 'who' 'willing' 'windows' 'woodruff' 'work'\n",
      " 'would' 'you']\n",
      "[[1 2 1 1 1 1 1 1 1 1 1 1 1 1 1 2 1 1 2 1 3 1 2 1 1 1 1 1 1 2 1 3 1 1 2 1\n",
      "  1 1 4 2 1 1 2 3 1 1 1 1 1 1 1 1 1 1 1 2 1 1 3 1 1 1 1 3 1 1 1 1 1 1 1 1\n",
      "  1 1 1]]\n"
     ]
    }
   ],
   "source": [
    "from sklearn.feature_extraction.text import CountVectorizer\n",
    "\n",
    "vectorizer = CountVectorizer()\n",
    "X = vectorizer.fit_transform(newsgroups_train.data[0:1])\n",
    "\n",
    "print(vectorizer.get_feature_names_out())\n",
    "print(X.toarray())"
   ]
  }
 ],
 "metadata": {
  "kernelspec": {
   "display_name": "Python 3",
   "language": "python",
   "name": "python3"
  },
  "language_info": {
   "codemirror_mode": {
    "name": "ipython",
    "version": 3
   },
   "file_extension": ".py",
   "mimetype": "text/x-python",
   "name": "python",
   "nbconvert_exporter": "python",
   "pygments_lexer": "ipython3",
   "version": "3.9.13"
  }
 },
 "nbformat": 4,
 "nbformat_minor": 2
}
