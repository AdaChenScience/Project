{
 "cells": [
  {
   "cell_type": "code",
   "execution_count": 1,
   "metadata": {},
   "outputs": [],
   "source": [
    "from tensorflow import keras\n",
    "\n",
    "imdb=keras.datasets.imdb\n",
    "(train_data,train_labels),(test_data,test_labels)=imdb.load_data(num_words=10000)"
   ]
  },
  {
   "cell_type": "code",
   "execution_count": 2,
   "metadata": {},
   "outputs": [],
   "source": [
    "word_index=imdb.get_word_index()\n",
    "word_index={k:(v+3) for k,v in word_index.items()}\n",
    "word_index[\"<PAD>\"]=0\n",
    "word_index[\"<START>\"]=1\n",
    "word_index[\"<UNK>\"]=2\n",
    "word_index[\"<UNUSED>\"]=3\n",
    "reverse_word_index=dict([(value,key) for (key,value) in word_index.items()])\n",
    "def decode_review(text):\n",
    "    return ' '.join([reverse_word_index.get(i, '?') for i in text])"
   ]
  },
  {
   "cell_type": "code",
   "execution_count": 3,
   "metadata": {},
   "outputs": [],
   "source": [
    "train_data=keras.preprocessing.sequence.pad_sequences(train_data,value=word_index[\"<PAD>\"],padding='post',maxlen=256)\n",
    "test_data=keras.preprocessing.sequence.pad_sequences(test_data,value=word_index[\"<PAD>\"],padding='post',maxlen=256)"
   ]
  },
  {
   "cell_type": "code",
   "execution_count": 4,
   "metadata": {},
   "outputs": [
    {
     "name": "stdout",
     "output_type": "stream",
     "text": [
      "Model: \"sequential\"\n",
      "_________________________________________________________________\n",
      " Layer (type)                Output Shape              Param #   \n",
      "=================================================================\n",
      " embedding (Embedding)       (None, None, 16)          160000    \n",
      "                                                                 \n",
      " global_average_pooling1d (G  (None, 16)               0         \n",
      " lobalAveragePooling1D)                                          \n",
      "                                                                 \n",
      " dense (Dense)               (None, 16)                272       \n",
      "                                                                 \n",
      " dense_1 (Dense)             (None, 1)                 17        \n",
      "                                                                 \n",
      "=================================================================\n",
      "Total params: 160,289\n",
      "Trainable params: 160,289\n",
      "Non-trainable params: 0\n",
      "_________________________________________________________________\n"
     ]
    }
   ],
   "source": [
    "vocab_size=10000\n",
    "model=keras.Sequential()\n",
    "model.add(keras.layers.Embedding(vocab_size,16))\n",
    "model.add(keras.layers.GlobalAveragePooling1D())\n",
    "model.add(keras.layers.Dense(16,activation='relu'))\n",
    "model.add(keras.layers.Dense(1,activation='sigmoid'))\n",
    "model.summary()"
   ]
  },
  {
   "cell_type": "code",
   "execution_count": 5,
   "metadata": {},
   "outputs": [],
   "source": [
    "model.compile(optimizer='adam',loss='binary_crossentropy',metrics=['accuracy'])"
   ]
  },
  {
   "cell_type": "code",
   "execution_count": 6,
   "metadata": {},
   "outputs": [
    {
     "name": "stdout",
     "output_type": "stream",
     "text": [
      "(25000, 256) (25000, 256)\n"
     ]
    }
   ],
   "source": [
    "print(train_data.shape,test_data.shape)\n",
    "\n",
    "x_val=train_data[:10000]\n",
    "partial_x_train=train_data[10000:]\n",
    "y_val=train_labels[:10000]\n",
    "partial_y_train=train_labels[10000:]"
   ]
  },
  {
   "cell_type": "code",
   "execution_count": 7,
   "metadata": {},
   "outputs": [
    {
     "name": "stdout",
     "output_type": "stream",
     "text": [
      "Epoch 1/25\n",
      "30/30 [==============================] - 1s 13ms/step - loss: 0.6921 - accuracy: 0.5249 - val_loss: 0.6907 - val_accuracy: 0.5550\n",
      "Epoch 2/25\n",
      "30/30 [==============================] - 0s 10ms/step - loss: 0.6869 - accuracy: 0.6701 - val_loss: 0.6827 - val_accuracy: 0.7233\n",
      "Epoch 3/25\n",
      "30/30 [==============================] - 0s 10ms/step - loss: 0.6744 - accuracy: 0.7449 - val_loss: 0.6666 - val_accuracy: 0.7474\n",
      "Epoch 4/25\n",
      "30/30 [==============================] - 0s 10ms/step - loss: 0.6514 - accuracy: 0.7719 - val_loss: 0.6401 - val_accuracy: 0.7536\n",
      "Epoch 5/25\n",
      "30/30 [==============================] - 0s 10ms/step - loss: 0.6167 - accuracy: 0.7874 - val_loss: 0.6036 - val_accuracy: 0.7878\n",
      "Epoch 6/25\n",
      "30/30 [==============================] - 0s 10ms/step - loss: 0.5731 - accuracy: 0.8111 - val_loss: 0.5620 - val_accuracy: 0.8028\n",
      "Epoch 7/25\n",
      "30/30 [==============================] - 0s 10ms/step - loss: 0.5254 - accuracy: 0.8291 - val_loss: 0.5182 - val_accuracy: 0.8183\n",
      "Epoch 8/25\n",
      "30/30 [==============================] - 0s 10ms/step - loss: 0.4782 - accuracy: 0.8463 - val_loss: 0.4769 - val_accuracy: 0.8339\n",
      "Epoch 9/25\n",
      "30/30 [==============================] - 0s 10ms/step - loss: 0.4347 - accuracy: 0.8601 - val_loss: 0.4419 - val_accuracy: 0.8416\n",
      "Epoch 10/25\n",
      "30/30 [==============================] - 0s 10ms/step - loss: 0.3971 - accuracy: 0.8703 - val_loss: 0.4117 - val_accuracy: 0.8492\n",
      "Epoch 11/25\n",
      "30/30 [==============================] - 0s 11ms/step - loss: 0.3648 - accuracy: 0.8813 - val_loss: 0.3868 - val_accuracy: 0.8566\n",
      "Epoch 12/25\n",
      "30/30 [==============================] - 0s 11ms/step - loss: 0.3375 - accuracy: 0.8897 - val_loss: 0.3673 - val_accuracy: 0.8631\n",
      "Epoch 13/25\n",
      "30/30 [==============================] - 0s 10ms/step - loss: 0.3146 - accuracy: 0.8939 - val_loss: 0.3515 - val_accuracy: 0.8668\n",
      "Epoch 14/25\n",
      "30/30 [==============================] - 0s 10ms/step - loss: 0.2946 - accuracy: 0.8999 - val_loss: 0.3382 - val_accuracy: 0.8707\n",
      "Epoch 15/25\n",
      "30/30 [==============================] - 0s 10ms/step - loss: 0.2776 - accuracy: 0.9054 - val_loss: 0.3275 - val_accuracy: 0.8748\n",
      "Epoch 16/25\n",
      "30/30 [==============================] - 0s 10ms/step - loss: 0.2620 - accuracy: 0.9112 - val_loss: 0.3189 - val_accuracy: 0.8770\n",
      "Epoch 17/25\n",
      "30/30 [==============================] - 0s 10ms/step - loss: 0.2483 - accuracy: 0.9155 - val_loss: 0.3120 - val_accuracy: 0.8774\n",
      "Epoch 18/25\n",
      "30/30 [==============================] - 0s 10ms/step - loss: 0.2362 - accuracy: 0.9195 - val_loss: 0.3061 - val_accuracy: 0.8801\n",
      "Epoch 19/25\n",
      "30/30 [==============================] - 0s 10ms/step - loss: 0.2249 - accuracy: 0.9227 - val_loss: 0.3010 - val_accuracy: 0.8810\n",
      "Epoch 20/25\n",
      "30/30 [==============================] - 0s 10ms/step - loss: 0.2144 - accuracy: 0.9268 - val_loss: 0.2983 - val_accuracy: 0.8814\n",
      "Epoch 21/25\n",
      "30/30 [==============================] - 0s 10ms/step - loss: 0.2050 - accuracy: 0.9305 - val_loss: 0.2944 - val_accuracy: 0.8824\n",
      "Epoch 22/25\n",
      "30/30 [==============================] - 0s 10ms/step - loss: 0.1957 - accuracy: 0.9331 - val_loss: 0.2927 - val_accuracy: 0.8832\n",
      "Epoch 23/25\n",
      "30/30 [==============================] - 0s 10ms/step - loss: 0.1875 - accuracy: 0.9377 - val_loss: 0.2894 - val_accuracy: 0.8842\n",
      "Epoch 24/25\n",
      "30/30 [==============================] - 0s 10ms/step - loss: 0.1797 - accuracy: 0.9415 - val_loss: 0.2882 - val_accuracy: 0.8844\n",
      "Epoch 25/25\n",
      "30/30 [==============================] - 0s 10ms/step - loss: 0.1720 - accuracy: 0.9451 - val_loss: 0.2873 - val_accuracy: 0.8841\n"
     ]
    }
   ],
   "source": [
    "history=model.fit(partial_x_train,partial_y_train,epochs=25,batch_size=512,validation_data=(x_val,y_val),verbose=1)"
   ]
  },
  {
   "cell_type": "code",
   "execution_count": 8,
   "metadata": {},
   "outputs": [
    {
     "name": "stdout",
     "output_type": "stream",
     "text": [
      "782/782 [==============================] - 1s 691us/step - loss: 0.3014 - accuracy: 0.8772\n",
      "Loss: 0.30135175585746765\n",
      "Accuracy: 0.8772000074386597\n"
     ]
    }
   ],
   "source": [
    "loss,accuracy=model.evaluate(test_data,test_labels)\n",
    "print(\"Loss:\",loss)\n",
    "print(\"Accuracy:\",accuracy)"
   ]
  },
  {
   "cell_type": "code",
   "execution_count": 9,
   "metadata": {},
   "outputs": [
    {
     "data": {
      "image/png": "[encoded data removed]",
      "text/plain": [
       "<Figure size 640x480 with 1 Axes>"
      ]
     },
     "metadata": {},
     "output_type": "display_data"
    }
   ],
   "source": [
    "import matplotlib.pyplot as plt\n",
    "\n",
    "loss = history.history['loss']\n",
    "val_loss = history.history['val_loss']\n",
    "plt.plot(loss, label='loss')\n",
    "plt.plot(val_loss, label='val_loss')\n",
    "plt.title('model loss')\n",
    "plt.ylabel('loss')\n",
    "plt.xlabel('epoch')\n",
    "plt.legend(['train', 'valid'], loc='upper left')\n",
    "plt.show()"
   ]
  }
 ],
 "metadata": {
  "kernelspec": {
   "display_name": "Python 3",
   "language": "python",
   "name": "python3"
  },
  "language_info": {
   "codemirror_mode": {
    "name": "ipython",
    "version": 3
   },
   "file_extension": ".py",
   "mimetype": "text/x-python",
   "name": "python",
   "nbconvert_exporter": "python",
   "pygments_lexer": "ipython3",
   "version": "3.9.13"
  }
 },
 "nbformat": 4,
 "nbformat_minor": 2
}
