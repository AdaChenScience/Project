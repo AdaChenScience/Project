{
 "cells": [
  {
   "cell_type": "code",
   "execution_count": 1,
   "metadata": {},
   "outputs": [],
   "source": [
    "from tensorflow import keras\n",
    "\n",
    "imdb=keras.datasets.imdb\n",
    "(train_data,train_labels),(test_data,test_labels)=imdb.load_data(num_words=10000)"
   ]
  },
  {
   "cell_type": "code",
   "execution_count": 2,
   "metadata": {},
   "outputs": [],
   "source": [
    "word_index=imdb.get_word_index()\n",
    "word_index={k:(v+3) for k,v in word_index.items()}\n",
    "word_index[\"<PAD>\"]=0\n",
    "word_index[\"<START>\"]=1\n",
    "word_index[\"<UNK>\"]=2\n",
    "word_index[\"<UNUSED>\"]=3\n",
    "reverse_word_index=dict([(value,key) for (key,value) in word_index.items()])\n",
    "def decode_review(text):\n",
    "    return ' '.join([reverse_word_index.get(i, '?') for i in text])"
   ]
  },
  {
   "cell_type": "code",
   "execution_count": 3,
   "metadata": {},
   "outputs": [],
   "source": [
    "train_data=keras.preprocessing.sequence.pad_sequences(train_data,value=word_index[\"<PAD>\"],padding='post',maxlen=256)\n",
    "test_data=keras.preprocessing.sequence.pad_sequences(test_data,value=word_index[\"<PAD>\"],padding='post',maxlen=256)"
   ]
  },
  {
   "cell_type": "code",
   "execution_count": 4,
   "metadata": {},
   "outputs": [
    {
     "name": "stdout",
     "output_type": "stream",
     "text": [
      "Model: \"sequential\"\n",
      "_________________________________________________________________\n",
      " Layer (type)                Output Shape              Param #   \n",
      "=================================================================\n",
      " embedding (Embedding)       (None, None, 16)          160000    \n",
      "                                                                 \n",
      " global_average_pooling1d (G  (None, 16)               0         \n",
      " lobalAveragePooling1D)                                          \n",
      "                                                                 \n",
      " dense (Dense)               (None, 16)                272       \n",
      "                                                                 \n",
      " dense_1 (Dense)             (None, 1)                 17        \n",
      "                                                                 \n",
      "=================================================================\n",
      "Total params: 160,289\n",
      "Trainable params: 160,289\n",
      "Non-trainable params: 0\n",
      "_________________________________________________________________\n"
     ]
    }
   ],
   "source": [
    "vocab_size=10000\n",
    "model=keras.Sequential()\n",
    "model.add(keras.layers.Embedding(vocab_size,16))\n",
    "model.add(keras.layers.GlobalAveragePooling1D())\n",
    "model.add(keras.layers.Dense(16,activation='relu'))\n",
    "model.add(keras.layers.Dense(1,activation='sigmoid'))\n",
    "model.summary()"
   ]
  },
  {
   "cell_type": "code",
   "execution_count": 5,
   "metadata": {},
   "outputs": [],
   "source": [
    "model.compile(optimizer='adam',loss='binary_crossentropy',metrics=['accuracy'])"
   ]
  },
  {
   "cell_type": "code",
   "execution_count": 6,
   "metadata": {},
   "outputs": [
    {
     "name": "stdout",
     "output_type": "stream",
     "text": [
      "(25000, 256) (25000, 256)\n"
     ]
    }
   ],
   "source": [
    "print(train_data.shape,test_data.shape)\n",
    "\n",
    "x_val=train_data[:10000]\n",
    "partial_x_train=train_data[10000:]\n",
    "y_val=train_labels[:10000]\n",
    "partial_y_train=train_labels[10000:]"
   ]
  },
  {
   "cell_type": "code",
   "execution_count": 7,
   "metadata": {},
   "outputs": [
    {
     "name": "stdout",
     "output_type": "stream",
     "text": [
      "Epoch 1/30\n",
      "30/30 [==============================] - 1s 14ms/step - loss: 0.6922 - accuracy: 0.5483 - val_loss: 0.6909 - val_accuracy: 0.6045\n",
      "Epoch 2/30\n",
      "30/30 [==============================] - 0s 10ms/step - loss: 0.6883 - accuracy: 0.6759 - val_loss: 0.6855 - val_accuracy: 0.7071\n",
      "Epoch 3/30\n",
      "30/30 [==============================] - 0s 11ms/step - loss: 0.6801 - accuracy: 0.7241 - val_loss: 0.6752 - val_accuracy: 0.7361\n",
      "Epoch 4/30\n",
      "30/30 [==============================] - 0s 10ms/step - loss: 0.6651 - accuracy: 0.7649 - val_loss: 0.6569 - val_accuracy: 0.7569\n",
      "Epoch 5/30\n",
      "30/30 [==============================] - 0s 10ms/step - loss: 0.6404 - accuracy: 0.7745 - val_loss: 0.6307 - val_accuracy: 0.7740\n",
      "Epoch 6/30\n",
      "30/30 [==============================] - 0s 10ms/step - loss: 0.6076 - accuracy: 0.7954 - val_loss: 0.5967 - val_accuracy: 0.7906\n",
      "Epoch 7/30\n",
      "30/30 [==============================] - 0s 10ms/step - loss: 0.5677 - accuracy: 0.8148 - val_loss: 0.5577 - val_accuracy: 0.8045\n",
      "Epoch 8/30\n",
      "30/30 [==============================] - 0s 10ms/step - loss: 0.5233 - accuracy: 0.8315 - val_loss: 0.5168 - val_accuracy: 0.8195\n",
      "Epoch 9/30\n",
      "30/30 [==============================] - 0s 11ms/step - loss: 0.4790 - accuracy: 0.8456 - val_loss: 0.4782 - val_accuracy: 0.8321\n",
      "Epoch 10/30\n",
      "30/30 [==============================] - 0s 11ms/step - loss: 0.4375 - accuracy: 0.8615 - val_loss: 0.4435 - val_accuracy: 0.8440\n",
      "Epoch 11/30\n",
      "30/30 [==============================] - 0s 11ms/step - loss: 0.4007 - accuracy: 0.8699 - val_loss: 0.4142 - val_accuracy: 0.8492\n",
      "Epoch 12/30\n",
      "30/30 [==============================] - 0s 11ms/step - loss: 0.3694 - accuracy: 0.8777 - val_loss: 0.3905 - val_accuracy: 0.8548\n",
      "Epoch 13/30\n",
      "30/30 [==============================] - 0s 10ms/step - loss: 0.3429 - accuracy: 0.8864 - val_loss: 0.3700 - val_accuracy: 0.8628\n",
      "Epoch 14/30\n",
      "30/30 [==============================] - 0s 11ms/step - loss: 0.3200 - accuracy: 0.8934 - val_loss: 0.3543 - val_accuracy: 0.8664\n",
      "Epoch 15/30\n",
      "30/30 [==============================] - 0s 10ms/step - loss: 0.3003 - accuracy: 0.8981 - val_loss: 0.3415 - val_accuracy: 0.8685\n",
      "Epoch 16/30\n",
      "30/30 [==============================] - 0s 10ms/step - loss: 0.2833 - accuracy: 0.9031 - val_loss: 0.3304 - val_accuracy: 0.8735\n",
      "Epoch 17/30\n",
      "30/30 [==============================] - 0s 14ms/step - loss: 0.2687 - accuracy: 0.9079 - val_loss: 0.3213 - val_accuracy: 0.8765\n",
      "Epoch 18/30\n",
      "30/30 [==============================] - 0s 16ms/step - loss: 0.2549 - accuracy: 0.9119 - val_loss: 0.3142 - val_accuracy: 0.8772\n",
      "Epoch 19/30\n",
      "30/30 [==============================] - 0s 16ms/step - loss: 0.2425 - accuracy: 0.9173 - val_loss: 0.3078 - val_accuracy: 0.8792\n",
      "Epoch 20/30\n",
      "30/30 [==============================] - 0s 16ms/step - loss: 0.2314 - accuracy: 0.9201 - val_loss: 0.3032 - val_accuracy: 0.8797\n",
      "Epoch 21/30\n",
      "30/30 [==============================] - 0s 16ms/step - loss: 0.2213 - accuracy: 0.9241 - val_loss: 0.2986 - val_accuracy: 0.8812\n",
      "Epoch 22/30\n",
      "30/30 [==============================] - 1s 17ms/step - loss: 0.2116 - accuracy: 0.9269 - val_loss: 0.2948 - val_accuracy: 0.8816\n",
      "Epoch 23/30\n",
      "30/30 [==============================] - 0s 16ms/step - loss: 0.2028 - accuracy: 0.9307 - val_loss: 0.2926 - val_accuracy: 0.8826\n",
      "Epoch 24/30\n",
      "30/30 [==============================] - 1s 16ms/step - loss: 0.1946 - accuracy: 0.9343 - val_loss: 0.2910 - val_accuracy: 0.8834\n",
      "Epoch 25/30\n",
      "30/30 [==============================] - 1s 17ms/step - loss: 0.1869 - accuracy: 0.9384 - val_loss: 0.2881 - val_accuracy: 0.8837\n",
      "Epoch 26/30\n",
      "30/30 [==============================] - 0s 16ms/step - loss: 0.1796 - accuracy: 0.9411 - val_loss: 0.2873 - val_accuracy: 0.8848\n",
      "Epoch 27/30\n",
      "30/30 [==============================] - 0s 15ms/step - loss: 0.1729 - accuracy: 0.9443 - val_loss: 0.2860 - val_accuracy: 0.8843\n",
      "Epoch 28/30\n",
      "30/30 [==============================] - 0s 16ms/step - loss: 0.1662 - accuracy: 0.9475 - val_loss: 0.2863 - val_accuracy: 0.8843\n",
      "Epoch 29/30\n",
      "30/30 [==============================] - 0s 16ms/step - loss: 0.1601 - accuracy: 0.9489 - val_loss: 0.2857 - val_accuracy: 0.8849\n",
      "Epoch 30/30\n",
      "30/30 [==============================] - 1s 17ms/step - loss: 0.1540 - accuracy: 0.9526 - val_loss: 0.2849 - val_accuracy: 0.8863\n"
     ]
    }
   ],
   "source": [
    "history=model.fit(partial_x_train,partial_y_train,epochs=30,batch_size=512,validation_data=(x_val,y_val),verbose=1)"
   ]
  },
  {
   "cell_type": "code",
   "execution_count": 8,
   "metadata": {},
   "outputs": [
    {
     "name": "stdout",
     "output_type": "stream",
     "text": [
      "782/782 [==============================] - 1s 2ms/step - loss: 0.3004 - accuracy: 0.8773\n",
      "Loss: 0.3003775477409363\n",
      "Accuracy: 0.8773199915885925\n"
     ]
    }
   ],
   "source": [
    "loss,accuracy=model.evaluate(test_data,test_labels)\n",
    "print(\"Loss:\",loss)\n",
    "print(\"Accuracy:\",accuracy)"
   ]
  }
 ],
 "metadata": {
  "kernelspec": {
   "display_name": "Python 3",
   "language": "python",
   "name": "python3"
  },
  "language_info": {
   "codemirror_mode": {
    "name": "ipython",
    "version": 3
   },
   "file_extension": ".py",
   "mimetype": "text/x-python",
   "name": "python",
   "nbconvert_exporter": "python",
   "pygments_lexer": "ipython3",
   "version": "3.9.13"
  }
 },
 "nbformat": 4,
 "nbformat_minor": 2
}
